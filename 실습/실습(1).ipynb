{
 "cells": [
  {
   "cell_type": "code",
   "execution_count": 13,
   "id": "55236c69-22d6-41d5-adb4-a66d740d80b2",
   "metadata": {},
   "outputs": [
    {
     "data": {
      "text/plain": [
       "6"
      ]
     },
     "execution_count": 13,
     "metadata": {},
     "output_type": "execute_result"
    }
   ],
   "source": [
    "2+4"
   ]
  },
  {
   "cell_type": "code",
   "execution_count": 12,
   "id": "32c7f1ce-6a54-4343-b729-54b4d7ad1539",
   "metadata": {},
   "outputs": [
    {
     "data": {
      "text/plain": [
       "2"
      ]
     },
     "execution_count": 12,
     "metadata": {},
     "output_type": "execute_result"
    }
   ],
   "source": [
    "4-2"
   ]
  },
  {
   "cell_type": "code",
   "execution_count": 14,
   "id": "9d0af4c6-4501-4b9c-8349-bbc761c984bb",
   "metadata": {},
   "outputs": [
    {
     "data": {
      "text/plain": [
       "2.0"
      ]
     },
     "execution_count": 14,
     "metadata": {},
     "output_type": "execute_result"
    }
   ],
   "source": [
    "4/2"
   ]
  },
  {
   "cell_type": "code",
   "execution_count": 15,
   "id": "f3665d17-eea6-4080-9fc9-8fa969bbb884",
   "metadata": {},
   "outputs": [
    {
     "data": {
      "text/plain": [
       "16"
      ]
     },
     "execution_count": 15,
     "metadata": {},
     "output_type": "execute_result"
    }
   ],
   "source": [
    "4**2"
   ]
  },
  {
   "cell_type": "code",
   "execution_count": 16,
   "id": "fce58638-94c1-45dc-b8c4-44ccf756d4fa",
   "metadata": {},
   "outputs": [
    {
     "data": {
      "text/plain": [
       "3.5"
      ]
     },
     "execution_count": 16,
     "metadata": {},
     "output_type": "execute_result"
    }
   ],
   "source": [
    "7/2"
   ]
  },
  {
   "cell_type": "code",
   "execution_count": 18,
   "id": "7f4f918e-1b3b-4f14-98ad-8fa3af880e03",
   "metadata": {},
   "outputs": [
    {
     "data": {
      "text/plain": [
       "3"
      ]
     },
     "execution_count": 18,
     "metadata": {},
     "output_type": "execute_result"
    }
   ],
   "source": [
    "7//2"
   ]
  },
  {
   "cell_type": "markdown",
   "id": "daec47cf-e1cc-4379-ac99-afa91c0db5c5",
   "metadata": {
    "tags": []
   },
   "source": [
    "파이썬 주석문"
   ]
  },
  {
   "cell_type": "code",
   "execution_count": 20,
   "id": "30c2b815-24f1-47e1-9413-5fccda7a5ba5",
   "metadata": {},
   "outputs": [],
   "source": [
    "# 파이썬 주석문 ctrl + /"
   ]
  },
  {
   "cell_type": "code",
   "execution_count": 21,
   "id": "db88854b-2196-4dbf-9a43-63a72ea266af",
   "metadata": {},
   "outputs": [
    {
     "name": "stdout",
     "output_type": "stream",
     "text": [
      "True\n"
     ]
    }
   ],
   "source": [
    "a= True\n",
    "if a:\n",
    "    print(\"True\")\n",
    "else:\n",
    "    print(\"False\")"
   ]
  },
  {
   "cell_type": "code",
   "execution_count": 23,
   "id": "b8c7cc4e-6eca-4a08-bd7d-0a785c6aa13c",
   "metadata": {},
   "outputs": [
    {
     "name": "stdout",
     "output_type": "stream",
     "text": [
      "True\n",
      "True End...\n",
      "End...\n"
     ]
    }
   ],
   "source": [
    "a= True\n",
    "if a:\n",
    "    print(\"True\")\n",
    "    print(\"True End...\")\n",
    "else:\n",
    "    print(\"False\")\n",
    "print(\"End...\")"
   ]
  }
 ],
 "metadata": {
  "kernelspec": {
   "display_name": "Python 3",
   "language": "python",
   "name": "python3"
  },
  "language_info": {
   "codemirror_mode": {
    "name": "ipython",
    "version": 3
   },
   "file_extension": ".py",
   "mimetype": "text/x-python",
   "name": "python",
   "nbconvert_exporter": "python",
   "pygments_lexer": "ipython3",
   "version": "3.8.8"
  }
 },
 "nbformat": 4,
 "nbformat_minor": 5
}
