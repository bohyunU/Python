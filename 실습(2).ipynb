{
 "cells": [
  {
   "cell_type": "code",
   "execution_count": 1,
   "id": "509339be-7b14-4fb1-b9a9-952257308e05",
   "metadata": {},
   "outputs": [
    {
     "name": "stdout",
     "output_type": "stream",
     "text": [
      "0\n"
     ]
    }
   ],
   "source": [
    "num = 0\n",
    "print(num)"
   ]
  },
  {
   "cell_type": "code",
   "execution_count": 2,
   "id": "49fc5dbb-0c70-42cf-8e33-0a9cb602e934",
   "metadata": {},
   "outputs": [
    {
     "name": "stdout",
     "output_type": "stream",
     "text": [
      "2\n"
     ]
    }
   ],
   "source": [
    "num2 = 2\n",
    "print(num2)"
   ]
  },
  {
   "cell_type": "code",
   "execution_count": 3,
   "id": "3aaa1eee-7950-4961-b5c0-08da99f94fac",
   "metadata": {},
   "outputs": [
    {
     "name": "stdout",
     "output_type": "stream",
     "text": [
      "Hello\n"
     ]
    }
   ],
   "source": [
    "헬로 = 'Hello'\n",
    "print(헬로)"
   ]
  },
  {
   "cell_type": "code",
   "execution_count": 4,
   "id": "41581da4-eb7a-40d5-b3b0-4b3c6ab56438",
   "metadata": {},
   "outputs": [
    {
     "name": "stdout",
     "output_type": "stream",
     "text": [
      "10 5\n"
     ]
    }
   ],
   "source": [
    "num1 = 10\n",
    "num2 = 5\n",
    "print(num1,num2)"
   ]
  },
  {
   "cell_type": "code",
   "execution_count": 5,
   "id": "d72796e7-ac1a-4768-820c-add03a1c2616",
   "metadata": {},
   "outputs": [
    {
     "name": "stdout",
     "output_type": "stream",
     "text": [
      "15\n"
     ]
    }
   ],
   "source": [
    "print(num1 + num2)"
   ]
  },
  {
   "cell_type": "code",
   "execution_count": 6,
   "id": "4a44b967-9a8d-4842-9be8-4a7fe49b867a",
   "metadata": {},
   "outputs": [
    {
     "name": "stdout",
     "output_type": "stream",
     "text": [
      "sum : 15\n"
     ]
    }
   ],
   "source": [
    "print('sum :',num1 + num2)"
   ]
  },
  {
   "cell_type": "code",
   "execution_count": 7,
   "id": "e7e0ceea-30fe-4540-997e-2f25f45f7f7b",
   "metadata": {},
   "outputs": [
    {
     "name": "stdout",
     "output_type": "stream",
     "text": [
      "10\n"
     ]
    }
   ],
   "source": [
    "a = b = 10\n",
    "print(a)"
   ]
  },
  {
   "cell_type": "code",
   "execution_count": 8,
   "id": "5c78c454-5974-4c90-9a56-5e36d4c3f997",
   "metadata": {},
   "outputs": [
    {
     "name": "stdout",
     "output_type": "stream",
     "text": [
      "10\n"
     ]
    }
   ],
   "source": [
    "print(b)"
   ]
  },
  {
   "cell_type": "code",
   "execution_count": 9,
   "id": "93be898d-673a-47a9-bd4f-bff071a5f568",
   "metadata": {},
   "outputs": [],
   "source": [
    "a,b=2,4"
   ]
  },
  {
   "cell_type": "code",
   "execution_count": 10,
   "id": "e1d2d61c-71aa-47c1-aa9e-ba207c87c570",
   "metadata": {},
   "outputs": [
    {
     "name": "stdout",
     "output_type": "stream",
     "text": [
      "2 4\n"
     ]
    }
   ],
   "source": [
    "print(a,b)"
   ]
  },
  {
   "cell_type": "code",
   "execution_count": 11,
   "id": "aa70217f-97a0-4251-b440-bb71d0c623b8",
   "metadata": {},
   "outputs": [],
   "source": [
    "a=10;b=5"
   ]
  },
  {
   "cell_type": "code",
   "execution_count": 12,
   "id": "d2d5a781-068d-4c48-9254-e68bb11bf337",
   "metadata": {},
   "outputs": [
    {
     "name": "stdout",
     "output_type": "stream",
     "text": [
      "10 5\n"
     ]
    }
   ],
   "source": [
    "print(a,b)"
   ]
  },
  {
   "cell_type": "code",
   "execution_count": 13,
   "id": "04ee9723-b473-48c8-a1e3-f7be18128b5c",
   "metadata": {},
   "outputs": [],
   "source": [
    "temp = a; a=b; b=temp"
   ]
  },
  {
   "cell_type": "code",
   "execution_count": 14,
   "id": "c7ecde3e-995b-4a0e-b38c-6d3cb742bcdf",
   "metadata": {},
   "outputs": [
    {
     "name": "stdout",
     "output_type": "stream",
     "text": [
      "5 10\n"
     ]
    }
   ],
   "source": [
    "print(a,b)"
   ]
  },
  {
   "cell_type": "code",
   "execution_count": 15,
   "id": "8fdfd737-1b0d-42e0-befe-1ba3aa397b36",
   "metadata": {},
   "outputs": [],
   "source": [
    "a,b=b,a"
   ]
  },
  {
   "cell_type": "code",
   "execution_count": 16,
   "id": "90f94fbd-685b-4ed0-a2b2-022ec1b9c8ec",
   "metadata": {},
   "outputs": [
    {
     "name": "stdout",
     "output_type": "stream",
     "text": [
      "10 5\n"
     ]
    }
   ],
   "source": [
    "print(a,b)"
   ]
  },
  {
   "cell_type": "code",
   "execution_count": 17,
   "id": "a58e4854-0ee9-4259-b90a-116e1db3bb18",
   "metadata": {},
   "outputs": [],
   "source": [
    "price = 1000"
   ]
  },
  {
   "cell_type": "code",
   "execution_count": 18,
   "id": "55dc7361-9b07-4599-a267-1217aeda41af",
   "metadata": {},
   "outputs": [
    {
     "name": "stdout",
     "output_type": "stream",
     "text": [
      "<class 'int'>\n"
     ]
    }
   ],
   "source": [
    "print(type(price))"
   ]
  },
  {
   "cell_type": "code",
   "execution_count": 19,
   "id": "7a983d38-49b9-45bb-ab34-1f33478d831c",
   "metadata": {},
   "outputs": [
    {
     "name": "stdout",
     "output_type": "stream",
     "text": [
      "0.5\n",
      "<class 'float'>\n"
     ]
    }
   ],
   "source": [
    "rate=0.5\n",
    "print(rate)\n",
    "print(type(rate))"
   ]
  },
  {
   "cell_type": "code",
   "execution_count": 20,
   "id": "45071ab3-140d-43fd-b363-141e5b587b31",
   "metadata": {},
   "outputs": [],
   "source": [
    "a=True\n",
    "b=False"
   ]
  },
  {
   "cell_type": "code",
   "execution_count": 21,
   "id": "383842d3-5a0c-4a51-b96f-39f90e229fde",
   "metadata": {},
   "outputs": [
    {
     "name": "stdout",
     "output_type": "stream",
     "text": [
      "True\n",
      "<class 'bool'>\n",
      "False\n",
      "<class 'bool'>\n"
     ]
    }
   ],
   "source": [
    "print(a)\n",
    "print(type(a))\n",
    "print(b)\n",
    "print(type(b))"
   ]
  },
  {
   "cell_type": "code",
   "execution_count": 22,
   "id": "d5cffbc9-661c-440a-962d-2dafef46b8f8",
   "metadata": {},
   "outputs": [
    {
     "name": "stdout",
     "output_type": "stream",
     "text": [
      "Hello\n",
      "<class 'str'>\n"
     ]
    }
   ],
   "source": [
    "s='Hello'\n",
    "print(s)\n",
    "print(type(s))"
   ]
  },
  {
   "cell_type": "code",
   "execution_count": 24,
   "id": "84c0f714-1a56-4f32-938d-dddd8803cdb6",
   "metadata": {},
   "outputs": [
    {
     "name": "stdout",
     "output_type": "stream",
     "text": [
      "[1, 2, 3, 4, 5]\n"
     ]
    }
   ],
   "source": [
    "l=[1,2,3,4,5]\n",
    "print(l)"
   ]
  },
  {
   "cell_type": "code",
   "execution_count": 25,
   "id": "f17b0726-98c0-4af4-a708-06d9d0856ed5",
   "metadata": {},
   "outputs": [
    {
     "name": "stdout",
     "output_type": "stream",
     "text": [
      "<class 'list'>\n"
     ]
    }
   ],
   "source": [
    "print(type(l))"
   ]
  },
  {
   "cell_type": "code",
   "execution_count": 26,
   "id": "2ef205ab-21a7-4e43-a063-64431e748393",
   "metadata": {},
   "outputs": [
    {
     "name": "stdout",
     "output_type": "stream",
     "text": [
      "(1, 2, 3, 4, 5)\n",
      "<class 'tuple'>\n"
     ]
    }
   ],
   "source": [
    "t= (1,2,3,4,5)\n",
    "print(t)\n",
    "print(type(t))"
   ]
  },
  {
   "cell_type": "code",
   "execution_count": 27,
   "id": "5770629a-806f-4951-a09b-1439be985363",
   "metadata": {},
   "outputs": [
    {
     "name": "stdout",
     "output_type": "stream",
     "text": [
      "{1, 2, 3, 4, 5}\n",
      "<class 'set'>\n"
     ]
    }
   ],
   "source": [
    "se = {1,2,3,4,5}\n",
    "print(se)\n",
    "print(type(se))"
   ]
  },
  {
   "cell_type": "code",
   "execution_count": 28,
   "id": "1d2c1b5b-d4b9-45bc-b4d2-5ecc509c6459",
   "metadata": {},
   "outputs": [],
   "source": [
    "d= {'a':1,\n",
    "   'b':2,\n",
    "   'c':3}"
   ]
  },
  {
   "cell_type": "code",
   "execution_count": 29,
   "id": "e99b767e-2b41-4d3f-be48-a0f7c5b7e355",
   "metadata": {},
   "outputs": [
    {
     "name": "stdout",
     "output_type": "stream",
     "text": [
      "{'a': 1, 'b': 2, 'c': 3}\n",
      "<class 'dict'>\n"
     ]
    }
   ],
   "source": [
    "print(d)\n",
    "print(type(d))"
   ]
  },
  {
   "cell_type": "code",
   "execution_count": 30,
   "id": "c803e093-3938-4951-becf-44011855ccb3",
   "metadata": {},
   "outputs": [
    {
     "name": "stdout",
     "output_type": "stream",
     "text": [
      "<class 'int'>\n"
     ]
    }
   ],
   "source": [
    "price = 1000\n",
    "print(type(price))"
   ]
  },
  {
   "cell_type": "code",
   "execution_count": 31,
   "id": "c63b07b6-71c3-4c19-b4b6-550addca4e7d",
   "metadata": {},
   "outputs": [],
   "source": [
    "price = price * 0.5"
   ]
  },
  {
   "cell_type": "code",
   "execution_count": 32,
   "id": "81e80e2b-9bc2-43c5-b7b1-cea0a7d7576b",
   "metadata": {},
   "outputs": [
    {
     "name": "stdout",
     "output_type": "stream",
     "text": [
      "500.0\n"
     ]
    }
   ],
   "source": [
    "print(price)"
   ]
  },
  {
   "cell_type": "code",
   "execution_count": 33,
   "id": "9d9f523b-3022-4fb8-ab98-11b34c9fdb78",
   "metadata": {},
   "outputs": [
    {
     "name": "stdout",
     "output_type": "stream",
     "text": [
      "<class 'float'>\n"
     ]
    }
   ],
   "source": [
    "print(type(price))"
   ]
  },
  {
   "cell_type": "code",
   "execution_count": 35,
   "id": "dc0c4397-0c7f-4192-adb1-5295805d4e6a",
   "metadata": {},
   "outputs": [
    {
     "name": "stdout",
     "output_type": "stream",
     "text": [
      "<class 'int'>\n",
      "25.0\n",
      "<class 'float'>\n"
     ]
    }
   ],
   "source": [
    "price = 1000\n",
    "print(type(price))\n",
    "\n",
    "i1= 100\n",
    "i1=i1/4\n",
    "print(i1)\n",
    "print(type(i1))"
   ]
  },
  {
   "cell_type": "code",
   "execution_count": 36,
   "id": "afe2122e-834c-4d1d-8f1a-8851f3635340",
   "metadata": {},
   "outputs": [
    {
     "name": "stdout",
     "output_type": "stream",
     "text": [
      "<class 'float'>\n",
      "3\n",
      "<class 'int'>\n"
     ]
    }
   ],
   "source": [
    "f1=3.14\n",
    "print(type(f1))\n",
    "\n",
    "i1=int(f1)\n",
    "print(i1)\n",
    "\n",
    "print(type(i1))"
   ]
  },
  {
   "cell_type": "code",
   "execution_count": 37,
   "id": "e3bd235a-cbf1-4135-9ca7-890f9011cf76",
   "metadata": {},
   "outputs": [
    {
     "name": "stdout",
     "output_type": "stream",
     "text": [
      "<class 'str'>\n",
      "12345\n",
      "<class 'int'>\n"
     ]
    }
   ],
   "source": [
    "s1='12345'\n",
    "print(type(s1))\n",
    "i1=int(s1)\n",
    "print(i1)\n",
    "\n",
    "print(type(i1))"
   ]
  },
  {
   "cell_type": "code",
   "execution_count": 38,
   "id": "cad63131-5def-4d65-93b4-f4dd334630fa",
   "metadata": {},
   "outputs": [
    {
     "ename": "ValueError",
     "evalue": "invalid literal for int() with base 10: '12345a'",
     "output_type": "error",
     "traceback": [
      "\u001b[1;31m---------------------------------------------------------------------------\u001b[0m",
      "\u001b[1;31mValueError\u001b[0m                                Traceback (most recent call last)",
      "\u001b[1;32m<ipython-input-38-5a27570ea928>\u001b[0m in \u001b[0;36m<module>\u001b[1;34m\u001b[0m\n\u001b[0;32m      1\u001b[0m \u001b[0ms2\u001b[0m\u001b[1;33m=\u001b[0m\u001b[1;34m'12345a'\u001b[0m\u001b[1;33m\u001b[0m\u001b[1;33m\u001b[0m\u001b[0m\n\u001b[1;32m----> 2\u001b[1;33m \u001b[0mint\u001b[0m\u001b[1;33m(\u001b[0m\u001b[0ms2\u001b[0m\u001b[1;33m)\u001b[0m\u001b[1;33m\u001b[0m\u001b[1;33m\u001b[0m\u001b[0m\n\u001b[0m",
      "\u001b[1;31mValueError\u001b[0m: invalid literal for int() with base 10: '12345a'"
     ]
    }
   ],
   "source": [
    "s2='12345a'\n",
    "int(s2)"
   ]
  },
  {
   "cell_type": "code",
   "execution_count": 39,
   "id": "9deee776-1792-43ca-9b7a-a2a8a7ceb57f",
   "metadata": {},
   "outputs": [
    {
     "name": "stdout",
     "output_type": "stream",
     "text": [
      "<class 'int'>\n"
     ]
    }
   ],
   "source": [
    "i1=100\n",
    "print(type(i1))"
   ]
  },
  {
   "cell_type": "code",
   "execution_count": 40,
   "id": "1ffb2880-1f86-4a32-8c91-ac143cc6033c",
   "metadata": {},
   "outputs": [],
   "source": [
    "f1=float(f1)"
   ]
  },
  {
   "cell_type": "code",
   "execution_count": 41,
   "id": "52902e2a-ea27-435b-b40d-1ab9c2d75265",
   "metadata": {},
   "outputs": [
    {
     "name": "stdout",
     "output_type": "stream",
     "text": [
      "3.14\n",
      "<class 'float'>\n"
     ]
    }
   ],
   "source": [
    "print(f1)\n",
    "print(type(f1))"
   ]
  },
  {
   "cell_type": "code",
   "execution_count": 42,
   "id": "14b9bd38-8a6a-46e7-860a-e6026622b98c",
   "metadata": {},
   "outputs": [
    {
     "name": "stdout",
     "output_type": "stream",
     "text": [
      "<class 'str'>\n",
      "<class 'float'>\n"
     ]
    }
   ],
   "source": [
    "s1='3.14'\n",
    "print(type(s1))\n",
    "f1=float(s1)\n",
    "print(type(f1))"
   ]
  },
  {
   "cell_type": "code",
   "execution_count": null,
   "id": "6fb803f3-afa4-4186-9902-7155ff2a008a",
   "metadata": {},
   "outputs": [],
   "source": []
  }
 ],
 "metadata": {
  "kernelspec": {
   "display_name": "Python 3",
   "language": "python",
   "name": "python3"
  },
  "language_info": {
   "codemirror_mode": {
    "name": "ipython",
    "version": 3
   },
   "file_extension": ".py",
   "mimetype": "text/x-python",
   "name": "python",
   "nbconvert_exporter": "python",
   "pygments_lexer": "ipython3",
   "version": "3.8.8"
  }
 },
 "nbformat": 4,
 "nbformat_minor": 5
}
